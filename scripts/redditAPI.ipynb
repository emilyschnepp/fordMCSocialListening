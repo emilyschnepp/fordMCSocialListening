{
  "nbformat": 4,
  "nbformat_minor": 0,
  "metadata": {
    "colab": {
      "provenance": []
    },
    "kernelspec": {
      "name": "python3",
      "display_name": "Python 3"
    },
    "language_info": {
      "name": "python"
    }
  },
  "cells": [
    {
      "cell_type": "code",
      "execution_count": 1,
      "metadata": {
        "colab": {
          "base_uri": "https://localhost:8080/"
        },
        "id": "K1cvvepAFuKC",
        "outputId": "5e129439-cb16-46e5-b150-d8ff593ab081"
      },
      "outputs": [
        {
          "output_type": "stream",
          "name": "stdout",
          "text": [
            "Requirement already satisfied: praw in /usr/local/lib/python3.10/dist-packages (7.8.1)\n",
            "Requirement already satisfied: prawcore<3,>=2.4 in /usr/local/lib/python3.10/dist-packages (from praw) (2.4.0)\n",
            "Requirement already satisfied: update_checker>=0.18 in /usr/local/lib/python3.10/dist-packages (from praw) (0.18.0)\n",
            "Requirement already satisfied: websocket-client>=0.54.0 in /usr/local/lib/python3.10/dist-packages (from praw) (1.8.0)\n",
            "Requirement already satisfied: requests<3.0,>=2.6.0 in /usr/local/lib/python3.10/dist-packages (from prawcore<3,>=2.4->praw) (2.32.3)\n",
            "Requirement already satisfied: charset-normalizer<4,>=2 in /usr/local/lib/python3.10/dist-packages (from requests<3.0,>=2.6.0->prawcore<3,>=2.4->praw) (3.4.0)\n",
            "Requirement already satisfied: idna<4,>=2.5 in /usr/local/lib/python3.10/dist-packages (from requests<3.0,>=2.6.0->prawcore<3,>=2.4->praw) (3.10)\n",
            "Requirement already satisfied: urllib3<3,>=1.21.1 in /usr/local/lib/python3.10/dist-packages (from requests<3.0,>=2.6.0->prawcore<3,>=2.4->praw) (2.2.3)\n",
            "Requirement already satisfied: certifi>=2017.4.17 in /usr/local/lib/python3.10/dist-packages (from requests<3.0,>=2.6.0->prawcore<3,>=2.4->praw) (2024.8.30)\n"
          ]
        }
      ],
      "source": [
        "pip install praw"
      ]
    },
    {
      "cell_type": "code",
      "source": [
        "import praw\n",
        "import datetime\n",
        "import csv\n",
        "import pandas as pd"
      ],
      "metadata": {
        "id": "rt3_bArsF1CD"
      },
      "execution_count": 2,
      "outputs": []
    },
    {
      "cell_type": "code",
      "source": [
        "#authenticating with Reddit.\n",
        "reddit = praw.Reddit(client_id='redacted', client_secret='redacted', user_agent='redacted')"
      ],
      "metadata": {
        "id": "CxdGtVUxF1Py"
      },
      "execution_count": 3,
      "outputs": []
    },
    {
      "cell_type": "code",
      "source": [
        "#creating functions to get posts and save posts to a csv.\n",
        "def getPosts(subreddit, query=None, limit=500):\n",
        "    subreddit = reddit.subreddit(subreddit)\n",
        "    if query:\n",
        "        return subreddit.search(query, limit=limit)\n",
        "    else:\n",
        "        return subreddit.new(limit=limit)\n",
        "\n",
        "def saveCSV(filename, posts, subreddit, brand):\n",
        "    with open(filename, mode=\"w\", newline=\"\", encoding=\"utf-8\") as file:\n",
        "        writer = csv.writer(file)\n",
        "        writer.writerow([\"title\", \"datetime\", \"subreddit\", \"brand\"])\n",
        "        for post in posts:\n",
        "            postDate = datetime.datetime.utcfromtimestamp(post.created_utc).strftime('%Y-%m-%d %H:%M:%S')\n",
        "            writer.writerow([post.title, postDate, subreddit, brand])"
      ],
      "metadata": {
        "id": "x1zTTBvRNTAa"
      },
      "execution_count": 4,
      "outputs": []
    },
    {
      "cell_type": "code",
      "source": [
        "#listing subreddits and brands.\n",
        "subreddits = [\"Ford\", \"cars\", \"trucks\", \"whatcarshouldIbuy\", \"askcarguys\", \"electricvehicles\", \"AskMechanics\"]\n",
        "brands = [\"Ford\", \"Chrysler\", \"Dodge\", \"Jeep\", \"Ram\", \"Fiat\", \"General Motors\", \"GM\", \"Chevy\", \"Chevrolet\", \"Lincoln\", \"Cadillac\"]\n",
        "#getting posts from the subreddits and only querying Ford in non-Ford subreddits.\n",
        "for subreddit in subreddits:\n",
        "    print(f\"Fetching posts from subreddit: {subreddit}...\")\n",
        "    for brand in brands:\n",
        "        if subreddit == \"Ford\" and brand != \"Ford\":\n",
        "            continue\n",
        "        posts = getPosts(subreddit, query=brand if subreddit != \"Ford\" else None, limit=500)\n",
        "        posts = list(posts)\n",
        "        if posts:\n",
        "            filename = f\"{subreddit}{brand}posts.csv\"\n",
        "            saveCSV(filename, posts, subreddit, brand)\n",
        "            print(f\"Saved {len(posts)} posts to {filename}.\")\n",
        "        else:\n",
        "            print(f\"No posts found for brand '{brand}' in subreddit '{subreddit}'.\")"
      ],
      "metadata": {
        "id": "McQjlSj3Fu1L"
      },
      "execution_count": null,
      "outputs": []
    },
    {
      "cell_type": "code",
      "source": [
        "#loading all datasets for concatenation\n",
        "askMechCadillacDf = pd.read_csv(\"AskMechanicsCadillacposts.csv\")\n",
        "askMechChevroletDf = pd.read_csv(\"AskMechanicsChevroletposts.csv\")\n",
        "askMechChevyDf = pd.read_csv(\"AskMechanicsChevyposts.csv\")\n",
        "askMechChryslerDf  = pd.read_csv(\"AskMechanicsChryslerposts.csv\")\n",
        "askMechDodgeDf = pd.read_csv(\"AskMechanicsDodgeposts.csv\")\n",
        "askMechFiatDf = pd.read_csv(\"AskMechanicsFiatposts.csv\")\n",
        "askMechFordDf = pd.read_csv(\"AskMechanicsFordposts.csv\")\n",
        "askMechGMDf = pd.read_csv(\"AskMechanicsGMposts.csv\")\n",
        "askMechGenMoDf = pd.read_csv(\"AskMechanicsGeneral Motorsposts.csv\")\n",
        "askMechJeepDf = pd.read_csv(\"AskMechanicsJeepposts.csv\")\n",
        "askMechLincolnDf = pd.read_csv(\"AskMechanicsLincolnposts.csv\")\n",
        "askMechRamDf = pd.read_csv(\"AskMechanicsRamposts.csv\")\n",
        "acgCadillacDf = pd.read_csv(\"askcarguysCadillacposts.csv\")\n",
        "acgChevroletDf = pd.read_csv(\"askcarguysChevroletposts.csv\")\n",
        "acgChevyDf = pd.read_csv(\"askcarguysChevyposts.csv\")\n",
        "acgChryslerDf = pd.read_csv(\"askcarguysChryslerposts.csv\")\n",
        "acgDodgeDf = pd.read_csv(\"askcarguysDodgeposts.csv\")\n",
        "acgFiatDf = pd.read_csv(\"askcarguysFiatposts.csv\")\n",
        "acgFordDf = pd.read_csv(\"askcarguysFiatposts.csv\")\n",
        "acgGMDf = pd.read_csv(\"askcarguysGMposts.csv\")\n",
        "acgGenMoDf = pd.read_csv(\"askcarguysGeneral Motorsposts.csv\")\n",
        "acgJeepDf = pd.read_csv(\"askcarguysJeepposts.csv\")\n",
        "acgLincolnDf = pd.read_csv(\"askcarguysLincolnposts.csv\")\n",
        "acgRamDf = pd.read_csv(\"askcarguysRamposts.csv\")\n",
        "carsCadillacDf = pd.read_csv(\"carsCadillacposts.csv\")\n",
        "carsChevroletDf = pd.read_csv(\"carsChevroletposts.csv\")\n",
        "carsChevyDf = pd.read_csv(\"carsChevyposts.csv\")\n",
        "carsChryslerDf = pd.read_csv(\"carsChryslerposts.csv\")\n",
        "carsDodgeDf = pd.read_csv(\"carsDodgeposts.csv\")\n",
        "carsFiatDf = pd.read_csv(\"carsFiatposts.csv\")\n",
        "carsFordDf = pd.read_csv(\"carsFordposts.csv\")\n",
        "carsGMDf = pd.read_csv(\"carsGMposts.csv\")\n",
        "carsGenMoDf = pd.read_csv(\"carsGeneral Motorsposts.csv\")\n",
        "carsJeepDf = pd.read_csv(\"carsJeepposts.csv\")\n",
        "carsLincolnDf = pd.read_csv(\"carsLincolnposts.csv\")\n",
        "carsRamDf = pd.read_csv(\"carsRamposts.csv\")\n",
        "evCadillacDf = pd.read_csv(\"electricvehiclesCadillacposts.csv\")\n",
        "evChevroletDf = pd.read_csv(\"electricvehiclesChevroletposts.csv\")\n",
        "evChryslerDf = pd.read_csv(\"electricvehiclesChryslerposts.csv\")\n",
        "evDodgeDf = pd.read_csv(\"electricvehiclesDodgeposts.csv\")\n",
        "evFiatDf = pd.read_csv(\"electricvehiclesFiatposts.csv\")\n",
        "evFordDf = pd.read_csv(\"electricvehiclesFordposts.csv\")\n",
        "evGMDf = pd.read_csv(\"electricvehiclesGMposts.csv\")\n",
        "evGenMoDf = pd.read_csv(\"electricvehiclesGeneral Motorsposts.csv\")\n",
        "evJeepDf = pd.read_csv(\"electricvehiclesJeepposts.csv\")\n",
        "evLincolnDf = pd.read_csv(\"electricvehiclesLincolnposts.csv\")\n",
        "evRamDf = pd.read_csv(\"electricvehiclesRamposts.csv\")\n",
        "trucksCadillacDf = pd.read_csv(\"trucksCadillacposts.csv\")\n",
        "trucksChevroletDf = pd.read_csv(\"trucksChevroletposts.csv\")\n",
        "trucksChevyDf = pd.read_csv(\"trucksChevyposts.csv\")\n",
        "trucksChryslerDf = pd.read_csv(\"trucksChryslerposts.csv\")\n",
        "trucksDodgeDf = pd.read_csv(\"trucksDodgeposts.csv\")\n",
        "trucksFiatDf = pd.read_csv(\"trucksFiatposts.csv\")\n",
        "trucksFordDf = pd.read_csv(\"trucksFordposts.csv\")\n",
        "trucksGMDf = pd.read_csv(\"trucksGMposts.csv\")\n",
        "trucksGenMoDf = pd.read_csv(\"trucksGeneral Motorsposts.csv\")\n",
        "trucksJeepDf = pd.read_csv(\"trucksJeepposts.csv\")\n",
        "trucksLincolnDf = pd.read_csv(\"trucksLincolnposts.csv\")\n",
        "trucksRamDf = pd.read_csv(\"trucksRamposts.csv\")\n",
        "whatCadillacDf = pd.read_csv(\"whatcarshouldIbuyCadillacposts.csv\")\n",
        "whatChevroletDf = pd.read_csv(\"whatcarshouldIbuyChevroletposts.csv\")\n",
        "whatChevyDf = pd.read_csv(\"whatcarshouldIbuyChevyposts.csv\")\n",
        "whatChryslerDf = pd.read_csv(\"whatcarshouldIbuyChryslerposts.csv\")\n",
        "whatDodgeDf = pd.read_csv(\"whatcarshouldIbuyDodgeposts.csv\")\n",
        "whatFiatDf = pd.read_csv(\"whatcarshouldIbuyFiatposts.csv\")\n",
        "whatFordDf = pd.read_csv(\"whatcarshouldIbuyFordposts.csv\")\n",
        "whatGMDf = pd.read_csv(\"whatcarshouldIbuyGMposts.csv\")\n",
        "whatGenMoDf = pd.read_csv(\"whatcarshouldIbuyGeneral Motorsposts.csv\")\n",
        "whatJeepDf = pd.read_csv(\"whatcarshouldIbuyJeepposts.csv\")\n",
        "whatLincolnDf = pd.read_csv(\"whatcarshouldIbuyLincolnposts.csv\")\n",
        "whatRamDf = pd.read_csv(\"whatcarshouldIbuyRamposts.csv\")\n",
        "fordsubredditDf=pd.read_csv(\"FordFordposts.csv\")"
      ],
      "metadata": {
        "id": "WhSGf2LhHNdo"
      },
      "execution_count": 6,
      "outputs": []
    },
    {
      "cell_type": "code",
      "source": [
        "#concatenating all data into Ford and Ford + competitors datasets and saving it as CSV files.\n",
        "fordDf = pd.concat([askMechFordDf, acgFordDf, carsFordDf, evFordDf, trucksFordDf, whatFordDf, fordsubredditDf], ignore_index=True)\n",
        "completeFordProjectDf = pd.concat ([askMechCadillacDf, askMechChevroletDf, askMechChevyDf, askMechChryslerDf, askMechDodgeDf, askMechFiatDf, askMechGMDf, askMechGenMoDf, askMechJeepDf,\n",
        "                        askMechLincolnDf, askMechRamDf, acgCadillacDf, acgChevroletDf, acgChevyDf, acgChryslerDf, acgDodgeDf, acgFiatDf, acgGMDf, acgGenMoDf, acgJeepDf,\n",
        "                        acgLincolnDf, acgRamDf, carsCadillacDf, carsChevroletDf, carsChevyDf, carsChryslerDf, carsDodgeDf, carsFiatDf, carsGMDf, carsGenMoDf, carsJeepDf,\n",
        "                        carsLincolnDf, carsRamDf, evCadillacDf, evChevroletDf, evChryslerDf, evDodgeDf, evFiatDf, evGMDf, evGenMoDf, evJeepDf, evLincolnDf, evRamDf,\n",
        "                        trucksCadillacDf, trucksChevroletDf, trucksChevyDf, trucksChryslerDf, trucksDodgeDf, trucksFiatDf, trucksGMDf, trucksGenMoDf, trucksJeepDf,\n",
        "                        trucksLincolnDf, trucksRamDf, whatCadillacDf, whatChevroletDf, whatChevyDf, whatChryslerDf, whatDodgeDf, whatFiatDf, whatGMDf, whatGenMoDf, whatJeepDf,\n",
        "                        whatLincolnDf, whatRamDf, fordsubredditDf], ignore_index=True)\n",
        "fordDf.to_csv(\"fordOnReddit.csv\", index=False)\n",
        "completeFordProjectDf.to_csv(\"fordAndCompOnReddit.csv\", index=False)"
      ],
      "metadata": {
        "id": "YZrAMJE4IuIv"
      },
      "execution_count": 7,
      "outputs": []
    }
  ]
}